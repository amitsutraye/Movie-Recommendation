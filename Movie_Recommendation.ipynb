{
  "nbformat": 4,
  "nbformat_minor": 0,
  "metadata": {
    "accelerator": "TPU",
    "colab": {
      "name": "Movie_Recommendation.ipynb",
      "provenance": [],
      "collapsed_sections": [],
      "machine_shape": "hm"
    },
    "kernelspec": {
      "display_name": "Python 3",
      "name": "python3"
    }
  },
  "cells": [
    {
      "cell_type": "markdown",
      "metadata": {
        "id": "XWAWkV_0B0Yt"
      },
      "source": [
        "Performing the recommendation engine of movies on content based using cosine similarity method"
      ]
    },
    {
      "cell_type": "code",
      "metadata": {
        "id": "N4CtrFYlc8zM"
      },
      "source": [
        "#Loading the necessary libraries\r\n",
        "import pandas as pd\r\n",
        "import numpy as np\r\n",
        "from sklearn.feature_extraction.text import CountVectorizer\r\n",
        "from sklearn.metrics.pairwise import cosine_similarity\r\n",
        "import string"
      ],
      "execution_count": 24,
      "outputs": []
    },
    {
      "cell_type": "code",
      "metadata": {
        "id": "sucC920Ac_Y0"
      },
      "source": [
        "movies = pd.read_csv('/content/drive/MyDrive/DS/Movie Recommendations/IMDB-Movie-Data.csv', index_col='Rank')"
      ],
      "execution_count": 35,
      "outputs": []
    },
    {
      "cell_type": "code",
      "metadata": {
        "colab": {
          "base_uri": "https://localhost:8080/",
          "height": 193
        },
        "id": "ctE4d13kdG8U",
        "outputId": "5ad97177-d724-45d4-ef6a-9ad1c677902a"
      },
      "source": [
        "movies.head(2)"
      ],
      "execution_count": 36,
      "outputs": [
        {
          "output_type": "execute_result",
          "data": {
            "text/html": [
              "<div>\n",
              "<style scoped>\n",
              "    .dataframe tbody tr th:only-of-type {\n",
              "        vertical-align: middle;\n",
              "    }\n",
              "\n",
              "    .dataframe tbody tr th {\n",
              "        vertical-align: top;\n",
              "    }\n",
              "\n",
              "    .dataframe thead th {\n",
              "        text-align: right;\n",
              "    }\n",
              "</style>\n",
              "<table border=\"1\" class=\"dataframe\">\n",
              "  <thead>\n",
              "    <tr style=\"text-align: right;\">\n",
              "      <th></th>\n",
              "      <th>Title</th>\n",
              "      <th>Genre</th>\n",
              "      <th>Description</th>\n",
              "      <th>Director</th>\n",
              "      <th>Actors</th>\n",
              "      <th>Year</th>\n",
              "      <th>Runtime (Minutes)</th>\n",
              "      <th>Rating</th>\n",
              "      <th>Votes</th>\n",
              "      <th>Revenue (Millions)</th>\n",
              "      <th>Metascore</th>\n",
              "    </tr>\n",
              "    <tr>\n",
              "      <th>Rank</th>\n",
              "      <th></th>\n",
              "      <th></th>\n",
              "      <th></th>\n",
              "      <th></th>\n",
              "      <th></th>\n",
              "      <th></th>\n",
              "      <th></th>\n",
              "      <th></th>\n",
              "      <th></th>\n",
              "      <th></th>\n",
              "      <th></th>\n",
              "    </tr>\n",
              "  </thead>\n",
              "  <tbody>\n",
              "    <tr>\n",
              "      <th>1</th>\n",
              "      <td>Guardians of the Galaxy</td>\n",
              "      <td>Action,Adventure,Sci-Fi</td>\n",
              "      <td>A group of intergalactic criminals are forced ...</td>\n",
              "      <td>James Gunn</td>\n",
              "      <td>Chris Pratt, Vin Diesel, Bradley Cooper, Zoe S...</td>\n",
              "      <td>2014</td>\n",
              "      <td>121</td>\n",
              "      <td>8.1</td>\n",
              "      <td>757074</td>\n",
              "      <td>333.13</td>\n",
              "      <td>76.0</td>\n",
              "    </tr>\n",
              "    <tr>\n",
              "      <th>2</th>\n",
              "      <td>Prometheus</td>\n",
              "      <td>Adventure,Mystery,Sci-Fi</td>\n",
              "      <td>Following clues to the origin of mankind, a te...</td>\n",
              "      <td>Ridley Scott</td>\n",
              "      <td>Noomi Rapace, Logan Marshall-Green, Michael Fa...</td>\n",
              "      <td>2012</td>\n",
              "      <td>124</td>\n",
              "      <td>7.0</td>\n",
              "      <td>485820</td>\n",
              "      <td>126.46</td>\n",
              "      <td>65.0</td>\n",
              "    </tr>\n",
              "  </tbody>\n",
              "</table>\n",
              "</div>"
            ],
            "text/plain": [
              "                        Title  ... Metascore\n",
              "Rank                           ...          \n",
              "1     Guardians of the Galaxy  ...      76.0\n",
              "2                  Prometheus  ...      65.0\n",
              "\n",
              "[2 rows x 11 columns]"
            ]
          },
          "metadata": {
            "tags": []
          },
          "execution_count": 36
        }
      ]
    },
    {
      "cell_type": "code",
      "metadata": {
        "colab": {
          "base_uri": "https://localhost:8080/"
        },
        "id": "PxPcI2rze7so",
        "outputId": "b331d8e3-1cd0-4f04-df24-911b1668a2d4"
      },
      "source": [
        "movies.info()"
      ],
      "execution_count": 30,
      "outputs": [
        {
          "output_type": "stream",
          "text": [
            "<class 'pandas.core.frame.DataFrame'>\n",
            "RangeIndex: 1000 entries, 0 to 999\n",
            "Data columns (total 13 columns):\n",
            " #   Column              Non-Null Count  Dtype  \n",
            "---  ------              --------------  -----  \n",
            " 0   index               1000 non-null   int64  \n",
            " 1   Rank                1000 non-null   int64  \n",
            " 2   Title               1000 non-null   object \n",
            " 3   Genre               1000 non-null   object \n",
            " 4   Description         1000 non-null   object \n",
            " 5   Director            1000 non-null   object \n",
            " 6   Actors              1000 non-null   object \n",
            " 7   Year                1000 non-null   int64  \n",
            " 8   Runtime (Minutes)   1000 non-null   int64  \n",
            " 9   Rating              1000 non-null   float64\n",
            " 10  Votes               1000 non-null   int64  \n",
            " 11  Revenue (Millions)  872 non-null    float64\n",
            " 12  Metascore           936 non-null    float64\n",
            "dtypes: float64(3), int64(5), object(5)\n",
            "memory usage: 101.7+ KB\n"
          ],
          "name": "stdout"
        }
      ]
    },
    {
      "cell_type": "code",
      "metadata": {
        "colab": {
          "base_uri": "https://localhost:8080/"
        },
        "id": "foj39CXLeshw",
        "outputId": "984eb741-3c5f-4228-d83d-c798d98ef5b2"
      },
      "source": [
        "print(movies.Year.min(), movies.Year.max())"
      ],
      "execution_count": 39,
      "outputs": [
        {
          "output_type": "stream",
          "text": [
            "2006 2016\n"
          ],
          "name": "stdout"
        }
      ]
    },
    {
      "cell_type": "code",
      "metadata": {
        "colab": {
          "base_uri": "https://localhost:8080/"
        },
        "id": "d9zGC7duJ_fI",
        "outputId": "b109b4e6-7f6e-469a-ed26-be04ea201cb2"
      },
      "source": [
        "movies.shape"
      ],
      "execution_count": 31,
      "outputs": [
        {
          "output_type": "execute_result",
          "data": {
            "text/plain": [
              "(1000, 13)"
            ]
          },
          "metadata": {
            "tags": []
          },
          "execution_count": 31
        }
      ]
    },
    {
      "cell_type": "code",
      "metadata": {
        "colab": {
          "base_uri": "https://localhost:8080/"
        },
        "id": "RPbB_y_HfbHR",
        "outputId": "06db48f3-1cdb-446e-cee7-b65bacad2f02"
      },
      "source": [
        "movies.isna().sum()"
      ],
      "execution_count": 32,
      "outputs": [
        {
          "output_type": "execute_result",
          "data": {
            "text/plain": [
              "index                   0\n",
              "Rank                    0\n",
              "Title                   0\n",
              "Genre                   0\n",
              "Description             0\n",
              "Director                0\n",
              "Actors                  0\n",
              "Year                    0\n",
              "Runtime (Minutes)       0\n",
              "Rating                  0\n",
              "Votes                   0\n",
              "Revenue (Millions)    128\n",
              "Metascore              64\n",
              "dtype: int64"
            ]
          },
          "metadata": {
            "tags": []
          },
          "execution_count": 32
        }
      ]
    },
    {
      "cell_type": "markdown",
      "metadata": {
        "id": "Lku7OP1rCUno"
      },
      "source": [
        "We are going to combine the data from the selected columns to one column in order to generate the cosine matrix."
      ]
    },
    {
      "cell_type": "code",
      "metadata": {
        "id": "iFfILpgIfdZG"
      },
      "source": [
        "movies['combined'] = movies['Actors'] + movies['Director'] + movies['Genre']"
      ],
      "execution_count": 40,
      "outputs": []
    },
    {
      "cell_type": "code",
      "metadata": {
        "id": "_VD1M4q9AFGw"
      },
      "source": [
        "#Changing the index to a normal sequence\r\n",
        "movies['index']=np.arange(1,movies.shape[0]+1)"
      ],
      "execution_count": 41,
      "outputs": []
    },
    {
      "cell_type": "code",
      "metadata": {
        "colab": {
          "base_uri": "https://localhost:8080/",
          "height": 595
        },
        "id": "aWyaDnujhEyn",
        "outputId": "a19ef9fd-b8d6-47a5-dee0-e5b342c00461"
      },
      "source": [
        "movies.head(5)"
      ],
      "execution_count": 43,
      "outputs": [
        {
          "output_type": "execute_result",
          "data": {
            "text/html": [
              "<div>\n",
              "<style scoped>\n",
              "    .dataframe tbody tr th:only-of-type {\n",
              "        vertical-align: middle;\n",
              "    }\n",
              "\n",
              "    .dataframe tbody tr th {\n",
              "        vertical-align: top;\n",
              "    }\n",
              "\n",
              "    .dataframe thead th {\n",
              "        text-align: right;\n",
              "    }\n",
              "</style>\n",
              "<table border=\"1\" class=\"dataframe\">\n",
              "  <thead>\n",
              "    <tr style=\"text-align: right;\">\n",
              "      <th></th>\n",
              "      <th>Title</th>\n",
              "      <th>Genre</th>\n",
              "      <th>Description</th>\n",
              "      <th>Director</th>\n",
              "      <th>Actors</th>\n",
              "      <th>Year</th>\n",
              "      <th>Runtime (Minutes)</th>\n",
              "      <th>Rating</th>\n",
              "      <th>Votes</th>\n",
              "      <th>Revenue (Millions)</th>\n",
              "      <th>Metascore</th>\n",
              "      <th>combined</th>\n",
              "      <th>index</th>\n",
              "    </tr>\n",
              "    <tr>\n",
              "      <th>Rank</th>\n",
              "      <th></th>\n",
              "      <th></th>\n",
              "      <th></th>\n",
              "      <th></th>\n",
              "      <th></th>\n",
              "      <th></th>\n",
              "      <th></th>\n",
              "      <th></th>\n",
              "      <th></th>\n",
              "      <th></th>\n",
              "      <th></th>\n",
              "      <th></th>\n",
              "      <th></th>\n",
              "    </tr>\n",
              "  </thead>\n",
              "  <tbody>\n",
              "    <tr>\n",
              "      <th>1</th>\n",
              "      <td>Guardians of the Galaxy</td>\n",
              "      <td>Action,Adventure,Sci-Fi</td>\n",
              "      <td>A group of intergalactic criminals are forced ...</td>\n",
              "      <td>James Gunn</td>\n",
              "      <td>Chris Pratt, Vin Diesel, Bradley Cooper, Zoe S...</td>\n",
              "      <td>2014</td>\n",
              "      <td>121</td>\n",
              "      <td>8.1</td>\n",
              "      <td>757074</td>\n",
              "      <td>333.13</td>\n",
              "      <td>76.0</td>\n",
              "      <td>Chris Pratt, Vin Diesel, Bradley Cooper, Zoe S...</td>\n",
              "      <td>1</td>\n",
              "    </tr>\n",
              "    <tr>\n",
              "      <th>2</th>\n",
              "      <td>Prometheus</td>\n",
              "      <td>Adventure,Mystery,Sci-Fi</td>\n",
              "      <td>Following clues to the origin of mankind, a te...</td>\n",
              "      <td>Ridley Scott</td>\n",
              "      <td>Noomi Rapace, Logan Marshall-Green, Michael Fa...</td>\n",
              "      <td>2012</td>\n",
              "      <td>124</td>\n",
              "      <td>7.0</td>\n",
              "      <td>485820</td>\n",
              "      <td>126.46</td>\n",
              "      <td>65.0</td>\n",
              "      <td>Noomi Rapace, Logan Marshall-Green, Michael Fa...</td>\n",
              "      <td>2</td>\n",
              "    </tr>\n",
              "    <tr>\n",
              "      <th>3</th>\n",
              "      <td>Split</td>\n",
              "      <td>Horror,Thriller</td>\n",
              "      <td>Three girls are kidnapped by a man with a diag...</td>\n",
              "      <td>M. Night Shyamalan</td>\n",
              "      <td>James McAvoy, Anya Taylor-Joy, Haley Lu Richar...</td>\n",
              "      <td>2016</td>\n",
              "      <td>117</td>\n",
              "      <td>7.3</td>\n",
              "      <td>157606</td>\n",
              "      <td>138.12</td>\n",
              "      <td>62.0</td>\n",
              "      <td>James McAvoy, Anya Taylor-Joy, Haley Lu Richar...</td>\n",
              "      <td>3</td>\n",
              "    </tr>\n",
              "    <tr>\n",
              "      <th>4</th>\n",
              "      <td>Sing</td>\n",
              "      <td>Animation,Comedy,Family</td>\n",
              "      <td>In a city of humanoid animals, a hustling thea...</td>\n",
              "      <td>Christophe Lourdelet</td>\n",
              "      <td>Matthew McConaughey,Reese Witherspoon, Seth Ma...</td>\n",
              "      <td>2016</td>\n",
              "      <td>108</td>\n",
              "      <td>7.2</td>\n",
              "      <td>60545</td>\n",
              "      <td>270.32</td>\n",
              "      <td>59.0</td>\n",
              "      <td>Matthew McConaughey,Reese Witherspoon, Seth Ma...</td>\n",
              "      <td>4</td>\n",
              "    </tr>\n",
              "    <tr>\n",
              "      <th>5</th>\n",
              "      <td>Suicide Squad</td>\n",
              "      <td>Action,Adventure,Fantasy</td>\n",
              "      <td>A secret government agency recruits some of th...</td>\n",
              "      <td>David Ayer</td>\n",
              "      <td>Will Smith, Jared Leto, Margot Robbie, Viola D...</td>\n",
              "      <td>2016</td>\n",
              "      <td>123</td>\n",
              "      <td>6.2</td>\n",
              "      <td>393727</td>\n",
              "      <td>325.02</td>\n",
              "      <td>40.0</td>\n",
              "      <td>Will Smith, Jared Leto, Margot Robbie, Viola D...</td>\n",
              "      <td>5</td>\n",
              "    </tr>\n",
              "  </tbody>\n",
              "</table>\n",
              "</div>"
            ],
            "text/plain": [
              "                        Title  ... index\n",
              "Rank                           ...      \n",
              "1     Guardians of the Galaxy  ...     1\n",
              "2                  Prometheus  ...     2\n",
              "3                       Split  ...     3\n",
              "4                        Sing  ...     4\n",
              "5               Suicide Squad  ...     5\n",
              "\n",
              "[5 rows x 13 columns]"
            ]
          },
          "metadata": {
            "tags": []
          },
          "execution_count": 43
        }
      ]
    },
    {
      "cell_type": "code",
      "metadata": {
        "colab": {
          "base_uri": "https://localhost:8080/"
        },
        "id": "KismzzDSjmtu",
        "outputId": "d9d79330-96e5-49a7-d420-e85cd9b03208"
      },
      "source": [
        "movies.shape"
      ],
      "execution_count": 44,
      "outputs": [
        {
          "output_type": "execute_result",
          "data": {
            "text/plain": [
              "(1000, 13)"
            ]
          },
          "metadata": {
            "tags": []
          },
          "execution_count": 44
        }
      ]
    },
    {
      "cell_type": "markdown",
      "metadata": {
        "id": "Qvstm7LEDAFa"
      },
      "source": [
        "Performing the cosine similarity matrix to get the similarity paramenter of the movies based on combined column"
      ]
    },
    {
      "cell_type": "code",
      "metadata": {
        "id": "KaO5wramhGVn"
      },
      "source": [
        "cv = CountVectorizer()\r\n",
        "count_matrix = cv.fit_transform(movies[\"combined\"])"
      ],
      "execution_count": 45,
      "outputs": []
    },
    {
      "cell_type": "code",
      "metadata": {
        "id": "2Lctuj0OhrrJ"
      },
      "source": [
        "#cs = cosine_similarity()\r\n",
        "cosine_sim = cosine_similarity(count_matrix)\r\n"
      ],
      "execution_count": 49,
      "outputs": []
    },
    {
      "cell_type": "code",
      "metadata": {
        "colab": {
          "base_uri": "https://localhost:8080/"
        },
        "id": "BSppHOWQrKiB",
        "outputId": "21de525e-3099-40db-ee83-0a206b5956cc"
      },
      "source": [
        "cosine_sim[40]"
      ],
      "execution_count": 50,
      "outputs": [
        {
          "output_type": "execute_result",
          "data": {
            "text/plain": [
              "array([0.08703883, 0.        , 0.        , 0.18181818, 0.09090909,\n",
              "       0.09090909, 0.        , 0.        , 0.09090909, 0.        ,\n",
              "       0.        , 0.        , 0.08703883, 0.18181818, 0.08703883,\n",
              "       0.19069252, 0.        , 0.        , 0.        , 0.        ,\n",
              "       0.        , 0.        , 0.        , 0.17407766, 0.08703883,\n",
              "       0.        , 0.09534626, 0.        , 0.10050378, 0.09090909,\n",
              "       0.        , 0.        , 0.08703883, 0.19069252, 0.        ,\n",
              "       0.0836242 , 0.        , 0.0836242 , 0.09090909, 0.        ,\n",
              "       1.        , 0.        , 0.        , 0.        , 0.        ,\n",
              "       0.09090909, 0.        , 0.        , 0.08703883, 0.        ,\n",
              "       0.09090909, 0.09090909, 0.        , 0.        , 0.        ,\n",
              "       0.        , 0.        , 0.        , 0.        , 0.        ,\n",
              "       0.08703883, 0.        , 0.        , 0.        , 0.        ,\n",
              "       0.18181818, 0.        , 0.08703883, 0.        , 0.        ,\n",
              "       0.        , 0.        , 0.        , 0.        , 0.18181818,\n",
              "       0.09090909, 0.        , 0.        , 0.09090909, 0.27272727,\n",
              "       0.0836242 , 0.        , 0.27272727, 0.        , 0.        ,\n",
              "       0.0836242 , 0.        , 0.09090909, 0.        , 0.        ,\n",
              "       0.        , 0.09090909, 0.        , 0.18181818, 0.07784989,\n",
              "       0.09090909, 0.        , 0.        , 0.08703883, 0.        ,\n",
              "       0.        , 0.09090909, 0.17407766, 0.        , 0.18181818,\n",
              "       0.        , 0.        , 0.09090909, 0.        , 0.        ,\n",
              "       0.        , 0.        , 0.        , 0.        , 0.        ,\n",
              "       0.        , 0.        , 0.        , 0.        , 0.18181818,\n",
              "       0.        , 0.        , 0.09090909, 0.        , 0.        ,\n",
              "       0.        , 0.08703883, 0.        , 0.        , 0.        ,\n",
              "       0.        , 0.09090909, 0.        , 0.        , 0.        ,\n",
              "       0.        , 0.        , 0.        , 0.        , 0.        ,\n",
              "       0.08703883, 0.        , 0.09090909, 0.        , 0.        ,\n",
              "       0.        , 0.        , 0.        , 0.19069252, 0.09090909,\n",
              "       0.        , 0.        , 0.        , 0.        , 0.        ,\n",
              "       0.        , 0.07784989, 0.        , 0.08703883, 0.09090909,\n",
              "       0.        , 0.09090909, 0.08703883, 0.09090909, 0.09090909,\n",
              "       0.09090909, 0.18181818, 0.        , 0.        , 0.09090909,\n",
              "       0.        , 0.09090909, 0.        , 0.        , 0.27272727,\n",
              "       0.09090909, 0.08703883, 0.09090909, 0.        , 0.18181818,\n",
              "       0.        , 0.        , 0.        , 0.        , 0.        ,\n",
              "       0.        , 0.        , 0.        , 0.        , 0.        ,\n",
              "       0.        , 0.        , 0.        , 0.        , 0.        ,\n",
              "       0.08703883, 0.        , 0.        , 0.        , 0.08703883,\n",
              "       0.08703883, 0.        , 0.        , 0.0836242 , 0.09090909,\n",
              "       0.08703883, 0.        , 0.        , 0.19069252, 0.        ,\n",
              "       0.09090909, 0.        , 0.08703883, 0.        , 0.09090909,\n",
              "       0.08703883, 0.08703883, 0.18181818, 0.        , 0.08703883,\n",
              "       0.08703883, 0.1672484 , 0.        , 0.        , 0.        ,\n",
              "       0.        , 0.        , 0.08703883, 0.09090909, 0.        ,\n",
              "       0.        , 0.        , 0.08703883, 0.09090909, 0.08703883,\n",
              "       0.        , 0.        , 0.        , 0.09090909, 0.09090909,\n",
              "       0.        , 0.18181818, 0.19069252, 0.0805823 , 0.        ,\n",
              "       0.        , 0.        , 0.        , 0.09090909, 0.08703883,\n",
              "       0.        , 0.        , 0.        , 0.08703883, 0.        ,\n",
              "       0.        , 0.09090909, 0.        , 0.        , 0.        ,\n",
              "       0.        , 0.        , 0.        , 0.        , 0.18181818,\n",
              "       0.        , 0.        , 0.        , 0.08703883, 0.        ,\n",
              "       0.09090909, 0.        , 0.27272727, 0.        , 0.17407766,\n",
              "       0.09090909, 0.27272727, 0.        , 0.        , 0.0836242 ,\n",
              "       0.        , 0.08703883, 0.        , 0.        , 0.09534626,\n",
              "       0.        , 0.09534626, 0.08703883, 0.27272727, 0.        ,\n",
              "       0.        , 0.        , 0.19069252, 0.        , 0.09090909,\n",
              "       0.        , 0.18181818, 0.        , 0.        , 0.        ,\n",
              "       0.        , 0.        , 0.10050378, 0.        , 0.        ,\n",
              "       0.        , 0.        , 0.        , 0.        , 0.        ,\n",
              "       0.        , 0.        , 0.        , 0.        , 0.        ,\n",
              "       0.        , 0.0805823 , 0.        , 0.        , 0.        ,\n",
              "       0.        , 0.        , 0.        , 0.        , 0.        ,\n",
              "       0.08703883, 0.        , 0.08703883, 0.        , 0.        ,\n",
              "       0.18181818, 0.        , 0.        , 0.        , 0.        ,\n",
              "       0.        , 0.        , 0.        , 0.        , 0.        ,\n",
              "       0.        , 0.        , 0.        , 0.        , 0.09090909,\n",
              "       0.09090909, 0.        , 0.        , 0.        , 0.        ,\n",
              "       0.        , 0.        , 0.        , 0.09090909, 0.        ,\n",
              "       0.09090909, 0.        , 0.        , 0.38138504, 0.        ,\n",
              "       0.        , 0.        , 0.08703883, 0.09090909, 0.        ,\n",
              "       0.        , 0.09090909, 0.        , 0.09534626, 0.09090909,\n",
              "       0.08703883, 0.        , 0.        , 0.        , 0.09090909,\n",
              "       0.        , 0.        , 0.        , 0.08703883, 0.09090909,\n",
              "       0.        , 0.        , 0.        , 0.        , 0.0836242 ,\n",
              "       0.08703883, 0.09090909, 0.08703883, 0.0836242 , 0.08703883,\n",
              "       0.09090909, 0.        , 0.19069252, 0.        , 0.        ,\n",
              "       0.        , 0.08703883, 0.        , 0.        , 0.        ,\n",
              "       0.09090909, 0.        , 0.        , 0.18181818, 0.        ,\n",
              "       0.        , 0.        , 0.18181818, 0.08703883, 0.09090909,\n",
              "       0.        , 0.        , 0.18181818, 0.        , 0.08703883,\n",
              "       0.        , 0.        , 0.        , 0.        , 0.        ,\n",
              "       0.        , 0.        , 0.        , 0.        , 0.        ,\n",
              "       0.        , 0.        , 0.        , 0.        , 0.        ,\n",
              "       0.        , 0.        , 0.08703883, 0.09090909, 0.        ,\n",
              "       0.        , 0.        , 0.        , 0.0805823 , 0.        ,\n",
              "       0.        , 0.        , 0.        , 0.        , 0.        ,\n",
              "       0.        , 0.        , 0.08703883, 0.09534626, 0.        ,\n",
              "       0.0836242 , 0.        , 0.        , 0.        , 0.08703883,\n",
              "       0.        , 0.        , 0.        , 0.        , 0.        ,\n",
              "       0.        , 0.        , 0.        , 0.        , 0.09090909,\n",
              "       0.08703883, 0.        , 0.        , 0.        , 0.09090909,\n",
              "       0.        , 0.        , 0.08703883, 0.        , 0.        ,\n",
              "       0.09090909, 0.        , 0.        , 0.        , 0.        ,\n",
              "       0.09090909, 0.        , 0.        , 0.        , 0.09090909,\n",
              "       0.09090909, 0.        , 0.        , 0.        , 0.09090909,\n",
              "       0.        , 0.09090909, 0.        , 0.        , 0.        ,\n",
              "       0.        , 0.17407766, 0.        , 0.        , 0.18181818,\n",
              "       0.        , 0.        , 0.        , 0.        , 0.        ,\n",
              "       0.        , 0.        , 0.        , 0.        , 0.        ,\n",
              "       0.        , 0.        , 0.        , 0.        , 0.        ,\n",
              "       0.        , 0.09090909, 0.        , 0.        , 0.        ,\n",
              "       0.        , 0.        , 0.        , 0.09090909, 0.        ,\n",
              "       0.        , 0.        , 0.        , 0.0836242 , 0.09090909,\n",
              "       0.        , 0.        , 0.        , 0.        , 0.        ,\n",
              "       0.        , 0.        , 0.18181818, 0.        , 0.        ,\n",
              "       0.        , 0.        , 0.        , 0.        , 0.        ,\n",
              "       0.        , 0.        , 0.        , 0.        , 0.        ,\n",
              "       0.        , 0.        , 0.08703883, 0.        , 0.        ,\n",
              "       0.        , 0.        , 0.        , 0.09090909, 0.08703883,\n",
              "       0.09090909, 0.        , 0.        , 0.18181818, 0.18181818,\n",
              "       0.        , 0.0836242 , 0.        , 0.        , 0.        ,\n",
              "       0.        , 0.09090909, 0.        , 0.        , 0.        ,\n",
              "       0.09090909, 0.        , 0.08703883, 0.08703883, 0.        ,\n",
              "       0.        , 0.08703883, 0.        , 0.        , 0.17407766,\n",
              "       0.        , 0.        , 0.        , 0.        , 0.18181818,\n",
              "       0.        , 0.        , 0.        , 0.        , 0.        ,\n",
              "       0.        , 0.        , 0.17407766, 0.        , 0.27272727,\n",
              "       0.        , 0.        , 0.        , 0.09090909, 0.        ,\n",
              "       0.        , 0.        , 0.        , 0.        , 0.08703883,\n",
              "       0.        , 0.        , 0.        , 0.        , 0.        ,\n",
              "       0.        , 0.        , 0.        , 0.09090909, 0.27272727,\n",
              "       0.        , 0.        , 0.        , 0.        , 0.        ,\n",
              "       0.09090909, 0.09090909, 0.        , 0.        , 0.08703883,\n",
              "       0.        , 0.20100756, 0.        , 0.        , 0.09090909,\n",
              "       0.19069252, 0.        , 0.        , 0.        , 0.        ,\n",
              "       0.        , 0.        , 0.        , 0.        , 0.        ,\n",
              "       0.        , 0.        , 0.        , 0.        , 0.09090909,\n",
              "       0.        , 0.        , 0.        , 0.        , 0.        ,\n",
              "       0.        , 0.        , 0.18181818, 0.        , 0.        ,\n",
              "       0.26111648, 0.        , 0.        , 0.09090909, 0.        ,\n",
              "       0.        , 0.        , 0.18181818, 0.        , 0.        ,\n",
              "       0.        , 0.        , 0.        , 0.08703883, 0.0836242 ,\n",
              "       0.        , 0.        , 0.        , 0.        , 0.        ,\n",
              "       0.08703883, 0.        , 0.        , 0.        , 0.        ,\n",
              "       0.        , 0.        , 0.08703883, 0.18181818, 0.        ,\n",
              "       0.        , 0.        , 0.        , 0.08703883, 0.        ,\n",
              "       0.        , 0.        , 0.        , 0.09090909, 0.        ,\n",
              "       0.        , 0.09534626, 0.08703883, 0.        , 0.        ,\n",
              "       0.        , 0.        , 0.        , 0.        , 0.        ,\n",
              "       0.08703883, 0.        , 0.18181818, 0.        , 0.        ,\n",
              "       0.09090909, 0.        , 0.        , 0.09090909, 0.20100756,\n",
              "       0.        , 0.        , 0.        , 0.        , 0.        ,\n",
              "       0.        , 0.        , 0.        , 0.18181818, 0.        ,\n",
              "       0.        , 0.26111648, 0.        , 0.        , 0.        ,\n",
              "       0.        , 0.        , 0.        , 0.        , 0.09090909,\n",
              "       0.10050378, 0.        , 0.        , 0.        , 0.        ,\n",
              "       0.09090909, 0.        , 0.        , 0.        , 0.        ,\n",
              "       0.        , 0.        , 0.        , 0.09534626, 0.        ,\n",
              "       0.        , 0.        , 0.        , 0.09090909, 0.        ,\n",
              "       0.        , 0.        , 0.        , 0.        , 0.        ,\n",
              "       0.        , 0.        , 0.09090909, 0.        , 0.        ,\n",
              "       0.09090909, 0.        , 0.08703883, 0.        , 0.        ,\n",
              "       0.1672484 , 0.        , 0.        , 0.        , 0.        ,\n",
              "       0.        , 0.        , 0.        , 0.        , 0.        ,\n",
              "       0.        , 0.        , 0.09090909, 0.09090909, 0.        ,\n",
              "       0.        , 0.        , 0.19069252, 0.09090909, 0.        ,\n",
              "       0.        , 0.        , 0.36363636, 0.        , 0.08703883,\n",
              "       0.        , 0.        , 0.09090909, 0.        , 0.        ,\n",
              "       0.        , 0.09090909, 0.        , 0.        , 0.        ,\n",
              "       0.18181818, 0.        , 0.        , 0.        , 0.18181818,\n",
              "       0.        , 0.        , 0.        , 0.        , 0.        ,\n",
              "       0.        , 0.        , 0.0836242 , 0.        , 0.        ,\n",
              "       0.        , 0.        , 0.0836242 , 0.        , 0.        ,\n",
              "       0.        , 0.        , 0.        , 0.18181818, 0.        ,\n",
              "       0.        , 0.        , 0.09534626, 0.        , 0.        ,\n",
              "       0.        , 0.        , 0.        , 0.17407766, 0.        ,\n",
              "       0.        , 0.19069252, 0.        , 0.        , 0.        ,\n",
              "       0.        , 0.        , 0.        , 0.        , 0.09090909,\n",
              "       0.        , 0.09534626, 0.        , 0.        , 0.        ,\n",
              "       0.        , 0.        , 0.        , 0.        , 0.        ,\n",
              "       0.        , 0.        , 0.        , 0.        , 0.08703883,\n",
              "       0.        , 0.08703883, 0.        , 0.        , 0.        ,\n",
              "       0.        , 0.        , 0.        , 0.0836242 , 0.09090909,\n",
              "       0.09090909, 0.0836242 , 0.        , 0.18181818, 0.08703883,\n",
              "       0.        , 0.        , 0.        , 0.        , 0.1672484 ,\n",
              "       0.        , 0.        , 0.        , 0.        , 0.        ,\n",
              "       0.09090909, 0.        , 0.09090909, 0.        , 0.        ,\n",
              "       0.        , 0.09090909, 0.        , 0.09090909, 0.        ,\n",
              "       0.        , 0.        , 0.        , 0.        , 0.        ,\n",
              "       0.        , 0.        , 0.        , 0.        , 0.        ,\n",
              "       0.        , 0.0836242 , 0.        , 0.        , 0.        ,\n",
              "       0.09090909, 0.09090909, 0.        , 0.        , 0.08703883,\n",
              "       0.09090909, 0.        , 0.        , 0.        , 0.        ,\n",
              "       0.        , 0.        , 0.        , 0.        , 0.        ,\n",
              "       0.08703883, 0.        , 0.        , 0.        , 0.        ,\n",
              "       0.        , 0.09090909, 0.        , 0.        , 0.        ,\n",
              "       0.        , 0.        , 0.        , 0.07784989, 0.        ,\n",
              "       0.        , 0.        , 0.        , 0.0805823 , 0.        ,\n",
              "       0.        , 0.        , 0.        , 0.        , 0.        ,\n",
              "       0.        , 0.        , 0.        , 0.        , 0.        ,\n",
              "       0.        , 0.        , 0.        , 0.        , 0.09090909,\n",
              "       0.        , 0.        , 0.        , 0.        , 0.        ,\n",
              "       0.        , 0.        , 0.        , 0.        , 0.        ,\n",
              "       0.        , 0.        , 0.        , 0.        , 0.        ,\n",
              "       0.08703883, 0.        , 0.        , 0.        , 0.        ,\n",
              "       0.09090909, 0.        , 0.        , 0.09090909, 0.        ,\n",
              "       0.        , 0.        , 0.        , 0.10050378, 0.        ])"
            ]
          },
          "metadata": {
            "tags": []
          },
          "execution_count": 50
        }
      ]
    },
    {
      "cell_type": "code",
      "metadata": {
        "id": "cSXboty2jtAJ"
      },
      "source": [
        "def get_title_from_index(index):\r\n",
        "    return movies[movies.index == index][\"Title\"].values[0]\r\n",
        "def get_index_from_title(title):\r\n",
        "    return movies[movies.Title == title][\"index\"].values[0]"
      ],
      "execution_count": 53,
      "outputs": []
    },
    {
      "cell_type": "code",
      "metadata": {
        "id": "44MYQHsyj0Bw"
      },
      "source": [
        "movie_user_likes = \"Split\"\r\n",
        "movie_index = get_index_from_title(movie_user_likes)\r\n",
        "movie_index\r\n",
        "cosine_sim[movie_index]\r\n",
        "similar_movies =  list(enumerate(cosine_sim[movie_index]))"
      ],
      "execution_count": 61,
      "outputs": []
    },
    {
      "cell_type": "code",
      "metadata": {
        "id": "YdY0poU3j1yV"
      },
      "source": [
        "sorted_similar_movies = sorted(similar_movies,key=lambda x:x[1],reverse=True)[1:]"
      ],
      "execution_count": 62,
      "outputs": []
    },
    {
      "cell_type": "code",
      "metadata": {
        "colab": {
          "base_uri": "https://localhost:8080/"
        },
        "id": "PTcI3fhDoAhD",
        "outputId": "9d086246-538a-4103-b93d-f79b7aa51560"
      },
      "source": [
        "#Recommending only the top 5 similar movies to the user\r\n",
        "i=0\r\n",
        "print(\"Since you watched \"+movie_user_likes+\", You might like the following:\\n\")\r\n",
        "for movie in sorted_similar_movies:\r\n",
        "    print(get_title_from_index(movie[0]))\r\n",
        "    i += 1\r\n",
        "    if i>=5:\r\n",
        "        break"
      ],
      "execution_count": 63,
      "outputs": [
        {
          "output_type": "stream",
          "text": [
            "Since you watched Split, You might like the following:\n",
            "\n",
            "In Bruges\n",
            "Nightcrawler\n",
            "Regression\n",
            "Jane Eyre\n",
            "Funny Games\n"
          ],
          "name": "stdout"
        }
      ]
    },
    {
      "cell_type": "code",
      "metadata": {
        "id": "Q2IhA283oChQ"
      },
      "source": [
        ""
      ],
      "execution_count": null,
      "outputs": []
    }
  ]
}